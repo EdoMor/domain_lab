{
 "cells": [
  {
   "cell_type": "code",
   "execution_count": 1,
   "metadata": {},
   "outputs": [
    {
     "name": "stdout",
     "output_type": "stream",
     "text": [
      "pk\n"
     ]
    }
   ],
   "source": [
    "print('pk')"
   ]
  },
  {
   "cell_type": "code",
   "execution_count": 2,
   "metadata": {
    "pycharm": {
     "name": "#%%\n"
    }
   },
   "outputs": [
    {
     "name": "stdout",
     "output_type": "stream",
     "text": [
      "2.6.0\n",
      "ok\n"
     ]
    }
   ],
   "source": [
    "#imports:\n",
    "# !pip install\n",
    "import numpy as np\n",
    "import cv2\n",
    "import os\n",
    "import matplotlib.pyplot as plt\n",
    "import tensorflow as tf\n",
    "from tensorflow import keras\n",
    "from datagenerator import *\n",
    "print(tf.version.VERSION)\n",
    "print('ok')"
   ]
  },
  {
   "cell_type": "code",
   "execution_count": 3,
   "metadata": {
    "pycharm": {
     "name": "#%%\n"
    }
   },
   "outputs": [
    {
     "name": "stdout",
     "output_type": "stream",
     "text": [
      "ok\n"
     ]
    }
   ],
   "source": [
    "# constants:\n",
    "SIZE = 160 # todo: change from 170\n",
    "RESIZED_WIDTH = SIZE  # temp\n",
    "RESIZED_HEIGHT = SIZE  # temp\n",
    "RESIZED_NUM_PIXELS = RESIZED_WIDTH * RESIZED_HEIGHT\n",
    "SHAPE = RESIZED_NUM_PIXELS + 3\n",
    "TRAIN_PATH = r'C:\\Users\\hadar\\Desktop\\Advanced_Lab\\run_1_data\\train_valid_test\\train'  # temp\n",
    "VALID_PATH = r'C:\\Users\\hadar\\Desktop\\Advanced_Lab\\run_1_data\\train_valid_test\\valid'  # temp\n",
    "TEST_PATH = r'C:\\Users\\hadar\\Desktop\\Advanced_Lab\\run_1_data\\train_valid_test\\test'  # temp\n",
    "BACH_SIZE = 3 # temp\n",
    "TRAIN_DATASET_SIZE = dataset_size(TRAIN_PATH)\n",
    "VALID_DATASET_SIZE = dataset_size(VALID_PATH)\n",
    "TEST_DATA_SIZE = dataset_size(TEST_PATH)\n",
    "STEPS_PER_EPOCH = TRAIN_DATASET_SIZE // BACH_SIZE\n",
    "EPOCHS = 2 # temp\n",
    "VALIDATION_STEPS = VALID_DATASET_SIZE // BACH_SIZE\n",
    "TEST_STEPS = TEST_DATA_SIZE // BACH_SIZE\n",
    "IMAGE_SHAPE = (RESIZED_WIDTH, RESIZED_HEIGHT, 1)\n",
    "\n",
    "print('ok')"
   ]
  },
  {
   "cell_type": "code",
   "execution_count": 4,
   "metadata": {
    "pycharm": {
     "name": "#%%\n"
    }
   },
   "outputs": [],
   "source": [
    "# from pprint import pprint\n",
    "# import PIL as pl\n",
    "# def data_generator(path):\n",
    "#     i=0\n",
    "#     images=[]\n",
    "#     vol=[]\n",
    "#     for root, dirs, files in os.walk(path):\n",
    "#         for name in files:\n",
    "#             vol.append(get_volt_from_img_name(name))\n",
    "#     while i<=len(range(1,len(vol))):\n",
    "#         try:\n",
    "#             yield {'image':np.array(pl.Image.open(os.path.join(root,files[i-1]))), 'voltage_data':[vol[i],vol[i-1],vol[i]-vol[i-1]]}, np.array(pl.Image.open(os.path.join(root,files[i])))\n",
    "#             i+=1\n",
    "#         except StopIteration:\n",
    "#             break"
   ]
  },
  {
   "cell_type": "code",
   "execution_count": 5,
   "metadata": {
    "collapsed": false,
    "jupyter": {
     "outputs_hidden": false
    },
    "pycharm": {
     "name": "#%%\n"
    }
   },
   "outputs": [
    {
     "name": "stdout",
     "output_type": "stream",
     "text": [
      "ok\n"
     ]
    }
   ],
   "source": [
    "# activating data gen:\n",
    "# x_train_generator = tf.data.Dataset.from_generator(data_generator)\n",
    "\n",
    "foo = data_generator_for_cnn\n",
    "train_generator = foo(TRAIN_PATH, BACH_SIZE, True, RESIZED_WIDTH, RESIZED_HEIGHT)\n",
    "validation_generator = foo(VALID_PATH, BACH_SIZE, True, RESIZED_WIDTH, RESIZED_HEIGHT)\n",
    "test_generator = foo(TEST_PATH, BACH_SIZE, True, RESIZED_WIDTH, RESIZED_HEIGHT)\n",
    "\n",
    "types = ( (tf.float32,tf.float32), (tf.float32) ) \n",
    "shapes = ((list(IMAGE_SHAPE),[3]),\n",
    "          (list(IMAGE_SHAPE)))\n",
    "train_data = tf.data.Dataset.from_generator(creat_next_data_for_cnn(TRAIN_PATH,  RESIZED_WIDTH, RESIZED_HEIGHT),\n",
    "                                      output_types=types,\n",
    "                                      output_shapes=shapes\n",
    "                                     ).batch(BACH_SIZE).repeat()\n",
    "\n",
    "valid_data = tf.data.Dataset.from_generator(creat_next_data_for_cnn(VALID_PATH,  RESIZED_WIDTH, RESIZED_HEIGHT),\n",
    "                                      output_types=types,\n",
    "                                      output_shapes=shapes\n",
    "                                     ).batch(BACH_SIZE).repeat()\n",
    "\n",
    "print('ok')"
   ]
  },
  {
   "cell_type": "code",
   "execution_count": null,
   "metadata": {
    "collapsed": false,
    "jupyter": {
     "outputs_hidden": false
    },
    "pycharm": {
     "is_executing": true,
     "name": "#%%\n"
    }
   },
   "outputs": [
    {
     "name": "stdout",
     "output_type": "stream",
     "text": [
      "Epoch 1/2\n",
      "266/266 [==============================] - ETA: 0s - loss: 0.6786 - accuracy: 0.0000e+00"
     ]
    }
   ],
   "source": [
    "import tensorflow.keras as K\n",
    "import tensorflow.keras.layers as L\n",
    "\n",
    "image=L.Input(shape=IMAGE_SHAPE, name = 'image')\n",
    "voltage_data=L.Input(shape=(3,), name = 'voltage_data')\n",
    "\n",
    "\n",
    "\n",
    "# conv branch\n",
    "conv = L.Conv2D(filters=1, kernel_size=1, activation=\"sigmoid\")(image)\n",
    "conv = L.Conv2D(filters=1, kernel_size=1, activation=\"sigmoid\")(conv)\n",
    "conv = L.Conv2D(filters=1, kernel_size=1, activation=\"sigmoid\")(conv)\n",
    "conv_flat = L.Flatten()(conv)\n",
    "conv_out = L.Concatenate(axis=1)([conv_flat,voltage_data])\n",
    "flat_hidden = L.Dense(units=128, activation=\"sigmoid\")(conv_out)\n",
    "flat_hidden = L.Dense(units=128, activation=\"sigmoid\")(flat_hidden)\n",
    "flat_hidden = L.Dense(units=128, activation=\"sigmoid\")(flat_hidden)\n",
    "flat_hidden = L.Dense(units=128, activation=\"sigmoid\")(flat_hidden)\n",
    "flat_hidden = L.Dense(units=128, activation=\"sigmoid\")(flat_hidden)\n",
    "flat_out = L.Dense(units=128, activation=\"sigmoid\")(flat_hidden)\n",
    "# comb\n",
    "comb_out = L.Dense(units=RESIZED_NUM_PIXELS, activation=\"sigmoid\")(flat_out)\n",
    "\n",
    "# conv branch\n",
    "model = K.Model(inputs=[image,voltage_data] , outputs=comb_out)\n",
    "# model.summary()\n",
    "model.compile(optimizer='adam',\n",
    "              loss=keras.losses.binary_crossentropy,\n",
    "              metrics=['accuracy']) #todo: loss='categorical_crossentropy',loss='sparse_categorical_crossentropy'\n",
    "# model.fit(x=train_data,\n",
    "#           steps_per_epoch=STEPS_PER_EPOCH,\n",
    "#           epochs=EPOCHS,\n",
    "#           validation_data=valid_data,\n",
    "#           validation_steps=VALIDATION_STEPS)\n",
    "# my_fit(model, \n",
    "#        train_generator, \n",
    "#        validation_generator, \n",
    "#        batch_size=BACH_SIZE, \n",
    "#        epochs= EPOCHS)\n",
    "model.fit(x=train_generator, \n",
    "          steps_per_epoch=STEPS_PER_EPOCH, \n",
    "          epochs=EPOCHS, \n",
    "          validation_data=validation_generator)\n",
    "# print('ok')"
   ]
  },
  {
   "cell_type": "code",
   "execution_count": null,
   "metadata": {
    "pycharm": {
     "name": "#%%\n"
    }
   },
   "outputs": [],
   "source": [
    "# Evaluating the Model:\n",
    "test_loss = model.evaluate(test_generator, steps=TEST_STEPS)\n",
    "print('Test loss:', test_loss)\n"
   ]
  },
  {
   "cell_type": "code",
   "execution_count": null,
   "metadata": {
    "pycharm": {
     "name": "#%%\n"
    }
   },
   "outputs": [],
   "source": [
    "######## functions for visualizing predictions ########\n",
    "\n",
    "def visualize_prediction(pred_input, original_output, prediction):\n",
    "    fig, axes = plt.subplots(1, 3, figsize=(9, 3))\n",
    "\n",
    "    # Plot the input frame.\n",
    "    ax = axes[0]\n",
    "    ax.imshow(np.squeeze(pred_input), cmap=\"gray\")\n",
    "    ax.set_title(f\"input\")\n",
    "    ax.axis(\"off\")\n",
    "\n",
    "    # Plot the original new frame.\n",
    "    ax = axes[1]\n",
    "    ax.imshow(np.squeeze(original_output), cmap=\"gray\")\n",
    "    ax.set_title(f\"original output\")\n",
    "    ax.axis(\"off\")\n",
    "\n",
    "    # Plot the new frame.\n",
    "    ax = axes[2]\n",
    "    ax.imshow(np.squeeze(prediction), cmap=\"gray\")\n",
    "    ax.set_title(f\"predicted output\")\n",
    "    ax.axis(\"off\")\n",
    "\n",
    "    # Display the figure.\n",
    "    plt.show()\n",
    "\n",
    "\n",
    "def predict_and_save(path_for_saving: str, num_pf_predictions: int = None):\n",
    "    if num_pf_predictions is None:\n",
    "        num_pf_predictions = TEST_DATA_SIZE\n",
    "    next_test = next_data(TEST_PATH, RESIZED_WIDTH, RESIZED_HEIGHT)\n",
    "    for _ in range(num_pf_predictions):\n",
    "        pred_input, original_output = next(next_test)\n",
    "        prediction_output = model.predict(np.array([pred_input]))\n",
    "        prediction = img_from_output(prediction_output[0], RESIZED_WIDTH, RESIZED_HEIGHT)\n",
    "        my_input = img_from_input(pred_input,RESIZED_WIDTH,RESIZED_HEIGHT)\n",
    "        original_output = img_from_output(original_output,RESIZED_WIDTH,RESIZED_HEIGHT)\n",
    "        #saving:\n",
    "        join = os.path.join\n",
    "        volts = pred_input[-3:]\n",
    "        name = f'{volts[0]}_{volts[1]}_{volts[2]}'\n",
    "        os.mkdir(join(path_for_saving, name))\n",
    "        for img_name, img in zip(['prediction.png', 'input.png', 'original_output.png'],\n",
    "                                 [prediction, my_input, original_output]):\n",
    "            cv2.imwrite(join(path_for_saving, name, img_name), img)\n",
    "\n",
    "\n",
    "def show_me_random_unsaved_predictions():\n",
    "    next_test = next_data(TEST_PATH, RESIZED_WIDTH, RESIZED_HEIGHT)\n",
    "    while True:\n",
    "        pred_input, original_output = next(next_test)\n",
    "        prediction_output = model.predict(np.array([pred_input]))\n",
    "        prediction = img_from_output(prediction_output[0], RESIZED_WIDTH, RESIZED_HEIGHT)\n",
    "        my_input = img_from_input(pred_input, RESIZED_WIDTH, RESIZED_HEIGHT)\n",
    "        original_output = img_from_output(original_output, RESIZED_WIDTH, RESIZED_HEIGHT)\n",
    "        visualize_prediction(my_input, original_output, prediction)\n",
    "        que = input('press_enter_for_anther_prediction, type q to break')\n",
    "        if que == 'q':\n",
    "            print('breaking...')\n",
    "            break\n",
    "\n",
    "\n",
    "def show_me_random_saved_predictions(saved_predictions_path: str):\n",
    "    predictions_list = os.listdir(saved_predictions_path)\n",
    "    random.shuffle(predictions_list)\n",
    "    join = os.path.join\n",
    "    for pred in predictions_list:\n",
    "        my_input = cv2.imread(join(saved_predictions_path, pred, 'input.png'), cv2.IMREAD_GRAYSCALE)\n",
    "        original_output = cv2.imread(join(saved_predictions_path, pred, 'original_output.png'), cv2.IMREAD_GRAYSCALE)\n",
    "        prediction = cv2.imread(join(saved_predictions_path, pred, 'prediction.png'), cv2.IMREAD_GRAYSCALE)\n",
    "        visualize_prediction(my_input, original_output, prediction)\n",
    "        que = input('press_enter_for_anther_prediction, type q to break')\n",
    "        if que == 'q':\n",
    "            print('breaking...')\n",
    "            break\n",
    "    print('There are no more predictions')\n",
    "\n",
    "\n"
   ]
  },
  {
   "cell_type": "code",
   "execution_count": null,
   "metadata": {
    "pycharm": {
     "name": "#%%\n"
    }
   },
   "outputs": [],
   "source": [
    "predict_and_save('H:\\hadars_folder\\predictions1')"
   ]
  },
  {
   "cell_type": "code",
   "execution_count": null,
   "metadata": {
    "pycharm": {
     "name": "#%%\n"
    }
   },
   "outputs": [],
   "source": [
    "show_me_random_unsaved_predictions()"
   ]
  },
  {
   "cell_type": "code",
   "execution_count": null,
   "metadata": {},
   "outputs": [],
   "source": []
  },
  {
   "cell_type": "code",
   "execution_count": null,
   "metadata": {},
   "outputs": [],
   "source": []
  }
 ],
 "metadata": {
  "kernelspec": {
   "display_name": "Python 3 (ipykernel)",
   "language": "python",
   "name": "python3"
  },
  "language_info": {
   "codemirror_mode": {
    "name": "ipython",
    "version": 3
   },
   "file_extension": ".py",
   "mimetype": "text/x-python",
   "name": "python",
   "nbconvert_exporter": "python",
   "pygments_lexer": "ipython3",
   "version": "3.9.5"
  }
 },
 "nbformat": 4,
 "nbformat_minor": 4
}
