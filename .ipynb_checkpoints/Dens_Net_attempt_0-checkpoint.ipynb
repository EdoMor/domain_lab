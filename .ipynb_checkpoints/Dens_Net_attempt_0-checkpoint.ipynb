{
 "cells": [
  {
   "cell_type": "code",
   "execution_count": 1,
   "metadata": {},
   "outputs": [],
   "source": [
    "#imports:\n",
    "# !pip install\n",
    "import numpy as np\n",
    "import cv2\n",
    "import os\n",
    "import matplotlib.pyplot as plt\n",
    "import tensorflow as tf\n",
    "from tensorflow import keras\n",
    "from datagenerator import *"
   ]
  },
  {
   "cell_type": "code",
   "execution_count": 15,
   "metadata": {
    "pycharm": {
     "name": "#%%\n"
    }
   },
   "outputs": [],
   "source": [
    "# constants:\n",
    "SIZE = 170\n",
    "RESIZED_WIDTH = SIZE  # temp\n",
    "RESIZED_HEIGHT = SIZE  # temp\n",
    "RESIZED_NUM_PIXELS = RESIZED_WIDTH * RESIZED_HEIGHT\n",
    "SHAPE = RESIZED_NUM_PIXELS + 3\n",
    "TRAIN_PATH = r'H:\\runs_processed\\train'  # temp\n",
    "VALID_PATH = r'H:\\runs_processed\\validation'  # temp\n",
    "TEST_PATH = r'H:\\runs_processed\\test'  # temp\n",
    "BACH_SIZE = 1 # temp\n",
    "TRAIN_DATASET_SIZE = dataset_size(TRAIN_PATH)\n",
    "VALID_DATASET_SIZE = dataset_size(VALID_PATH)\n",
    "TEST_DATA_SIZE = dataset_size(TEST_PATH)\n",
    "STEPS_PER_EPOCH = TRAIN_DATASET_SIZE // BACH_SIZE\n",
    "EPOCHS = 1 # temp\n",
    "VALIDATION_STEPS = VALID_DATASET_SIZE // BACH_SIZE\n",
    "TEST_STEPS = TEST_DATA_SIZE // BACH_SIZE"
   ]
  },
  {
   "cell_type": "code",
   "execution_count": 17,
   "metadata": {
    "pycharm": {
     "name": "#%%\n"
    }
   },
   "outputs": [],
   "source": [
    "# activating data gen:\n",
    "train_generator = data_generator(TRAIN_PATH, BACH_SIZE,\n",
    "                                 True, RESIZED_WIDTH, RESIZED_HEIGHT)\n",
    "validation_generator = data_generator(VALID_PATH, BACH_SIZE,\n",
    "                                      True, RESIZED_WIDTH, RESIZED_HEIGHT)\n",
    "test_generator = data_generator(TEST_PATH, BACH_SIZE,\n",
    "                                True, RESIZED_WIDTH, RESIZED_HEIGHT)"
   ]
  },
  {
   "cell_type": "code",
   "execution_count": 18,
   "metadata": {},
   "outputs": [],
   "source": [
    "physical_devices = tf.config.list_physical_devices('GPU')\n",
    "tf.config.experimental.set_memory_growth(physical_devices[0], True)"
   ]
  },
  {
   "cell_type": "code",
   "execution_count": 20,
   "metadata": {
    "pycharm": {
     "name": "#%%\n"
    },
    "tags": []
   },
   "outputs": [],
   "source": [
    "# model:\n",
    "with tf.device('/CPU:0'):\n",
    "    model = tf.keras.Sequential()\n",
    "    model.add(tf.keras.Input(shape=(SHAPE,)))\n",
    "    model.add(tf.keras.layers.Dense(SHAPE//2))\n",
    "    model.add(tf.keras.layers.Dense(SHAPE//6))\n",
    "    model.add(tf.keras.layers.Dense(SHAPE//2))\n",
    "    model.add(tf.keras.layers.Dense(RESIZED_NUM_PIXELS, activation=\"sigmoid\"))"
   ]
  },
  {
   "cell_type": "code",
   "execution_count": 21,
   "metadata": {
    "pycharm": {
     "name": "#%%\n"
    }
   },
   "outputs": [],
   "source": [
    "# Compile the Model:\n",
    "model.compile(loss=keras.losses.binary_crossentropy,\n",
    "              optimizer=keras.optimizers.Adam(),metrics=[tf.keras.metrics.Accuracy()])"
   ]
  },
  {
   "cell_type": "code",
   "execution_count": 6,
   "metadata": {
    "pycharm": {
     "name": "#%%\n"
    }
   },
   "outputs": [
    {
     "name": "stdout",
     "output_type": "stream",
     "text": [
      "Epoch 1/7\n",
      "12496/12496 [==============================] - 30054s 2s/step - loss: 1387.8323 - val_loss: 173.0222\n",
      "Epoch 2/7\n",
      "12496/12496 [==============================] - 30007s 2s/step - loss: 907.7722 - val_loss: 4.6678\n",
      "Epoch 3/7\n",
      "12496/12496 [==============================] - 31188s 2s/step - loss: 712.3118 - val_loss: 5.4662\n",
      "Epoch 4/7\n",
      "12496/12496 [==============================] - 31230s 2s/step - loss: 1200.5682 - val_loss: 6.6725\n",
      "Epoch 5/7\n",
      "12496/12496 [==============================] - 30824s 2s/step - loss: 2813.0391 - val_loss: 159.8590\n",
      "Epoch 6/7\n",
      "12496/12496 [==============================] - 31928s 3s/step - loss: 1018.8918 - val_loss: 9.1067\n",
      "Epoch 7/7\n",
      "12496/12496 [==============================] - 36319s 3s/step - loss: 1686.7917 - val_loss: 16.7929\n"
     ]
    },
    {
     "data": {
      "text/plain": [
       "<keras.callbacks.History at 0x1b1847dda60>"
      ]
     },
     "execution_count": 6,
     "metadata": {},
     "output_type": "execute_result"
    }
   ],
   "source": [
    "# Training the Model:\n",
    "with tf.device('/GPU:0'):\n",
    "model.fit(x=train_generator,\n",
    "          steps_per_epoch=STEPS_PER_EPOCH,\n",
    "          epochs=EPOCHS,\n",
    "          validation_data=validation_generator,\n",
    "          validation_steps=VALIDATION_STEPS)\n"
   ]
  },
  {
   "cell_type": "code",
   "execution_count": 7,
   "metadata": {
    "pycharm": {
     "name": "#%%\n"
    }
   },
   "outputs": [
    {
     "name": "stdout",
     "output_type": "stream",
     "text": [
      "1554/1554 [==============================] - 818s 527ms/step - loss: 17.8341\n",
      "Test loss: 17.834115982055664\n"
     ]
    }
   ],
   "source": [
    "# Evaluating the Model:\n",
    "test_loss = model.evaluate(test_generator, steps=TEST_STEPS)\n",
    "print('Test loss:', test_loss)\n"
   ]
  },
  {
   "cell_type": "code",
   "execution_count": 8,
   "metadata": {
    "pycharm": {
     "name": "#%%\n"
    }
   },
   "outputs": [],
   "source": [
    "######## functions for visualizing predictions ########\n",
    "\n",
    "def visualize_prediction(pred_input, original_output, prediction):\n",
    "    fig, axes = plt.subplots(1, 3, figsize=(9, 3))\n",
    "\n",
    "    # Plot the input frame.\n",
    "    ax = axes[0]\n",
    "    ax.imshow(np.squeeze(pred_input), cmap=\"gray\")\n",
    "    ax.set_title(f\"input\")\n",
    "    ax.axis(\"off\")\n",
    "\n",
    "    # Plot the original new frame.\n",
    "    ax = axes[1]\n",
    "    ax.imshow(np.squeeze(original_output), cmap=\"gray\")\n",
    "    ax.set_title(f\"original output\")\n",
    "    ax.axis(\"off\")\n",
    "\n",
    "    # Plot the new frame.\n",
    "    ax = axes[2]\n",
    "    ax.imshow(np.squeeze(prediction), cmap=\"gray\")\n",
    "    ax.set_title(f\"predicted output\")\n",
    "    ax.axis(\"off\")\n",
    "\n",
    "    # Display the figure.\n",
    "    plt.show()\n",
    "\n",
    "\n",
    "def predict_and_save(path_for_saving: str, num_pf_predictions: int = None):\n",
    "    if num_pf_predictions is None:\n",
    "        num_pf_predictions = TEST_DATA_SIZE\n",
    "    next_test = next_data(TEST_PATH, RESIZED_WIDTH, RESIZED_HEIGHT)\n",
    "    for _ in range(num_pf_predictions):\n",
    "        pred_input, original_output = next(next_test)\n",
    "        prediction_output = model.predict(np.array([pred_input]))\n",
    "        prediction = img_from_output(prediction_output[0], RESIZED_WIDTH, RESIZED_HEIGHT)\n",
    "        my_input = img_from_input(pred_input,RESIZED_WIDTH,RESIZED_HEIGHT)\n",
    "        original_output = img_from_output(original_output,RESIZED_WIDTH,RESIZED_HEIGHT)\n",
    "        #saving:\n",
    "        join = os.path.join\n",
    "        volts = pred_input[-3:]\n",
    "        name = f'{volts[0]}_{volts[1]}_{volts[2]}'\n",
    "        os.mkdir(join(path_for_saving, name))\n",
    "        for img_name, img in zip(['prediction.png', 'input.png', 'original_output.png'],\n",
    "                                 [prediction, my_input, original_output]):\n",
    "            cv2.imwrite(join(path_for_saving, name, img_name), img)\n",
    "\n",
    "\n",
    "def show_me_random_unsaved_predictions():\n",
    "    next_test = next_data(TEST_PATH, RESIZED_WIDTH, RESIZED_HEIGHT)\n",
    "    while True:\n",
    "        pred_input, original_output = next(next_test)\n",
    "        prediction_output = model.predict(np.array([pred_input]))\n",
    "        prediction = img_from_output(prediction_output[0], RESIZED_WIDTH, RESIZED_HEIGHT)\n",
    "        my_input = img_from_input(pred_input, RESIZED_WIDTH, RESIZED_HEIGHT)\n",
    "        original_output = img_from_output(original_output, RESIZED_WIDTH, RESIZED_HEIGHT)\n",
    "        visualize_prediction(my_input, original_output, prediction)\n",
    "        que = input('press_enter_for_anther_prediction, type q to break')\n",
    "        if que == 'q':\n",
    "            print('breaking...')\n",
    "            break\n",
    "\n",
    "\n",
    "def show_me_random_saved_predictions(saved_predictions_path: str):\n",
    "    predictions_list = os.listdir(saved_predictions_path)\n",
    "    random.shuffle(predictions_list)\n",
    "    join = os.path.join\n",
    "    for pred in predictions_list:\n",
    "        my_input = cv2.imread(join(saved_predictions_path, pred, 'input.png'), cv2.IMREAD_GRAYSCALE)\n",
    "        original_output = cv2.imread(join(saved_predictions_path, pred, 'original_output.png'), cv2.IMREAD_GRAYSCALE)\n",
    "        prediction = cv2.imread(join(saved_predictions_path, pred, 'prediction.png'), cv2.IMREAD_GRAYSCALE)\n",
    "        visualize_prediction(my_input, original_output, prediction)\n",
    "        que = input('press_enter_for_anther_prediction, type q to break')\n",
    "        if que == 'q':\n",
    "            print('breaking...')\n",
    "            break\n",
    "    print('There are no more predictions')\n",
    "\n",
    "\n"
   ]
  },
  {
   "cell_type": "code",
   "execution_count": 10,
   "metadata": {
    "pycharm": {
     "name": "#%%\n"
    }
   },
   "outputs": [
    {
     "ename": "KeyboardInterrupt",
     "evalue": "",
     "output_type": "error",
     "traceback": [
      "\u001b[1;31m---------------------------------------------------------------------------\u001b[0m",
      "\u001b[1;31mKeyboardInterrupt\u001b[0m                         Traceback (most recent call last)",
      "\u001b[1;32m<ipython-input-10-c0e44330df89>\u001b[0m in \u001b[0;36m<module>\u001b[1;34m\u001b[0m\n\u001b[1;32m----> 1\u001b[1;33m \u001b[0mpredict_and_save\u001b[0m\u001b[1;33m(\u001b[0m\u001b[1;34m'H:\\hadars_folder\\predictions2'\u001b[0m\u001b[1;33m)\u001b[0m\u001b[1;33m\u001b[0m\u001b[1;33m\u001b[0m\u001b[0m\n\u001b[0m",
      "\u001b[1;32m<ipython-input-8-a53adb6bded6>\u001b[0m in \u001b[0;36mpredict_and_save\u001b[1;34m(path_for_saving, num_pf_predictions)\u001b[0m\n\u001b[0;32m     32\u001b[0m     \u001b[1;32mfor\u001b[0m \u001b[0m_\u001b[0m \u001b[1;32min\u001b[0m \u001b[0mrange\u001b[0m\u001b[1;33m(\u001b[0m\u001b[0mnum_pf_predictions\u001b[0m\u001b[1;33m)\u001b[0m\u001b[1;33m:\u001b[0m\u001b[1;33m\u001b[0m\u001b[1;33m\u001b[0m\u001b[0m\n\u001b[0;32m     33\u001b[0m         \u001b[0mpred_input\u001b[0m\u001b[1;33m,\u001b[0m \u001b[0moriginal_output\u001b[0m \u001b[1;33m=\u001b[0m \u001b[0mnext\u001b[0m\u001b[1;33m(\u001b[0m\u001b[0mnext_test\u001b[0m\u001b[1;33m)\u001b[0m\u001b[1;33m\u001b[0m\u001b[1;33m\u001b[0m\u001b[0m\n\u001b[1;32m---> 34\u001b[1;33m         \u001b[0mprediction_output\u001b[0m \u001b[1;33m=\u001b[0m \u001b[0mmodel\u001b[0m\u001b[1;33m.\u001b[0m\u001b[0mpredict\u001b[0m\u001b[1;33m(\u001b[0m\u001b[0mnp\u001b[0m\u001b[1;33m.\u001b[0m\u001b[0marray\u001b[0m\u001b[1;33m(\u001b[0m\u001b[1;33m[\u001b[0m\u001b[0mpred_input\u001b[0m\u001b[1;33m]\u001b[0m\u001b[1;33m)\u001b[0m\u001b[1;33m)\u001b[0m\u001b[1;33m\u001b[0m\u001b[1;33m\u001b[0m\u001b[0m\n\u001b[0m\u001b[0;32m     35\u001b[0m         \u001b[0mprediction\u001b[0m \u001b[1;33m=\u001b[0m \u001b[0mimg_from_output\u001b[0m\u001b[1;33m(\u001b[0m\u001b[0mprediction_output\u001b[0m\u001b[1;33m[\u001b[0m\u001b[1;36m0\u001b[0m\u001b[1;33m]\u001b[0m\u001b[1;33m,\u001b[0m \u001b[0mRESIZED_WIDTH\u001b[0m\u001b[1;33m,\u001b[0m \u001b[0mRESIZED_HEIGHT\u001b[0m\u001b[1;33m)\u001b[0m\u001b[1;33m\u001b[0m\u001b[1;33m\u001b[0m\u001b[0m\n\u001b[0;32m     36\u001b[0m         \u001b[0mmy_input\u001b[0m \u001b[1;33m=\u001b[0m \u001b[0mimg_from_input\u001b[0m\u001b[1;33m(\u001b[0m\u001b[0mpred_input\u001b[0m\u001b[1;33m,\u001b[0m\u001b[0mRESIZED_WIDTH\u001b[0m\u001b[1;33m,\u001b[0m\u001b[0mRESIZED_HEIGHT\u001b[0m\u001b[1;33m)\u001b[0m\u001b[1;33m\u001b[0m\u001b[1;33m\u001b[0m\u001b[0m\n",
      "\u001b[1;32mc:\\users\\smr_prufrock\\appdata\\local\\programs\\python\\python39\\lib\\site-packages\\keras\\engine\\training.py\u001b[0m in \u001b[0;36mpredict\u001b[1;34m(self, x, batch_size, verbose, steps, callbacks, max_queue_size, workers, use_multiprocessing)\u001b[0m\n\u001b[0;32m   1749\u001b[0m           \u001b[1;32mfor\u001b[0m \u001b[0mstep\u001b[0m \u001b[1;32min\u001b[0m \u001b[0mdata_handler\u001b[0m\u001b[1;33m.\u001b[0m\u001b[0msteps\u001b[0m\u001b[1;33m(\u001b[0m\u001b[1;33m)\u001b[0m\u001b[1;33m:\u001b[0m\u001b[1;33m\u001b[0m\u001b[1;33m\u001b[0m\u001b[0m\n\u001b[0;32m   1750\u001b[0m             \u001b[0mcallbacks\u001b[0m\u001b[1;33m.\u001b[0m\u001b[0mon_predict_batch_begin\u001b[0m\u001b[1;33m(\u001b[0m\u001b[0mstep\u001b[0m\u001b[1;33m)\u001b[0m\u001b[1;33m\u001b[0m\u001b[1;33m\u001b[0m\u001b[0m\n\u001b[1;32m-> 1751\u001b[1;33m             \u001b[0mtmp_batch_outputs\u001b[0m \u001b[1;33m=\u001b[0m \u001b[0mself\u001b[0m\u001b[1;33m.\u001b[0m\u001b[0mpredict_function\u001b[0m\u001b[1;33m(\u001b[0m\u001b[0miterator\u001b[0m\u001b[1;33m)\u001b[0m\u001b[1;33m\u001b[0m\u001b[1;33m\u001b[0m\u001b[0m\n\u001b[0m\u001b[0;32m   1752\u001b[0m             \u001b[1;32mif\u001b[0m \u001b[0mdata_handler\u001b[0m\u001b[1;33m.\u001b[0m\u001b[0mshould_sync\u001b[0m\u001b[1;33m:\u001b[0m\u001b[1;33m\u001b[0m\u001b[1;33m\u001b[0m\u001b[0m\n\u001b[0;32m   1753\u001b[0m               \u001b[0mcontext\u001b[0m\u001b[1;33m.\u001b[0m\u001b[0masync_wait\u001b[0m\u001b[1;33m(\u001b[0m\u001b[1;33m)\u001b[0m\u001b[1;33m\u001b[0m\u001b[1;33m\u001b[0m\u001b[0m\n",
      "\u001b[1;32mc:\\users\\smr_prufrock\\appdata\\local\\programs\\python\\python39\\lib\\site-packages\\tensorflow\\python\\eager\\def_function.py\u001b[0m in \u001b[0;36m__call__\u001b[1;34m(self, *args, **kwds)\u001b[0m\n\u001b[0;32m    883\u001b[0m \u001b[1;33m\u001b[0m\u001b[0m\n\u001b[0;32m    884\u001b[0m       \u001b[1;32mwith\u001b[0m \u001b[0mOptionalXlaContext\u001b[0m\u001b[1;33m(\u001b[0m\u001b[0mself\u001b[0m\u001b[1;33m.\u001b[0m\u001b[0m_jit_compile\u001b[0m\u001b[1;33m)\u001b[0m\u001b[1;33m:\u001b[0m\u001b[1;33m\u001b[0m\u001b[1;33m\u001b[0m\u001b[0m\n\u001b[1;32m--> 885\u001b[1;33m         \u001b[0mresult\u001b[0m \u001b[1;33m=\u001b[0m \u001b[0mself\u001b[0m\u001b[1;33m.\u001b[0m\u001b[0m_call\u001b[0m\u001b[1;33m(\u001b[0m\u001b[1;33m*\u001b[0m\u001b[0margs\u001b[0m\u001b[1;33m,\u001b[0m \u001b[1;33m**\u001b[0m\u001b[0mkwds\u001b[0m\u001b[1;33m)\u001b[0m\u001b[1;33m\u001b[0m\u001b[1;33m\u001b[0m\u001b[0m\n\u001b[0m\u001b[0;32m    886\u001b[0m \u001b[1;33m\u001b[0m\u001b[0m\n\u001b[0;32m    887\u001b[0m       \u001b[0mnew_tracing_count\u001b[0m \u001b[1;33m=\u001b[0m \u001b[0mself\u001b[0m\u001b[1;33m.\u001b[0m\u001b[0mexperimental_get_tracing_count\u001b[0m\u001b[1;33m(\u001b[0m\u001b[1;33m)\u001b[0m\u001b[1;33m\u001b[0m\u001b[1;33m\u001b[0m\u001b[0m\n",
      "\u001b[1;32mc:\\users\\smr_prufrock\\appdata\\local\\programs\\python\\python39\\lib\\site-packages\\tensorflow\\python\\eager\\def_function.py\u001b[0m in \u001b[0;36m_call\u001b[1;34m(self, *args, **kwds)\u001b[0m\n\u001b[0;32m    922\u001b[0m       \u001b[1;31m# In this case we have not created variables on the first call. So we can\u001b[0m\u001b[1;33m\u001b[0m\u001b[1;33m\u001b[0m\u001b[1;33m\u001b[0m\u001b[0m\n\u001b[0;32m    923\u001b[0m       \u001b[1;31m# run the first trace but we should fail if variables are created.\u001b[0m\u001b[1;33m\u001b[0m\u001b[1;33m\u001b[0m\u001b[1;33m\u001b[0m\u001b[0m\n\u001b[1;32m--> 924\u001b[1;33m       \u001b[0mresults\u001b[0m \u001b[1;33m=\u001b[0m \u001b[0mself\u001b[0m\u001b[1;33m.\u001b[0m\u001b[0m_stateful_fn\u001b[0m\u001b[1;33m(\u001b[0m\u001b[1;33m*\u001b[0m\u001b[0margs\u001b[0m\u001b[1;33m,\u001b[0m \u001b[1;33m**\u001b[0m\u001b[0mkwds\u001b[0m\u001b[1;33m)\u001b[0m\u001b[1;33m\u001b[0m\u001b[1;33m\u001b[0m\u001b[0m\n\u001b[0m\u001b[0;32m    925\u001b[0m       \u001b[1;32mif\u001b[0m \u001b[0mself\u001b[0m\u001b[1;33m.\u001b[0m\u001b[0m_created_variables\u001b[0m \u001b[1;32mand\u001b[0m \u001b[1;32mnot\u001b[0m \u001b[0mALLOW_DYNAMIC_VARIABLE_CREATION\u001b[0m\u001b[1;33m:\u001b[0m\u001b[1;33m\u001b[0m\u001b[1;33m\u001b[0m\u001b[0m\n\u001b[0;32m    926\u001b[0m         raise ValueError(\"Creating variables on a non-first call to a function\"\n",
      "\u001b[1;32mc:\\users\\smr_prufrock\\appdata\\local\\programs\\python\\python39\\lib\\site-packages\\tensorflow\\python\\eager\\function.py\u001b[0m in \u001b[0;36m__call__\u001b[1;34m(self, *args, **kwargs)\u001b[0m\n\u001b[0;32m   3037\u001b[0m       (graph_function,\n\u001b[0;32m   3038\u001b[0m        filtered_flat_args) = self._maybe_define_function(args, kwargs)\n\u001b[1;32m-> 3039\u001b[1;33m     return graph_function._call_flat(\n\u001b[0m\u001b[0;32m   3040\u001b[0m         filtered_flat_args, captured_inputs=graph_function.captured_inputs)  # pylint: disable=protected-access\n\u001b[0;32m   3041\u001b[0m \u001b[1;33m\u001b[0m\u001b[0m\n",
      "\u001b[1;32mc:\\users\\smr_prufrock\\appdata\\local\\programs\\python\\python39\\lib\\site-packages\\tensorflow\\python\\eager\\function.py\u001b[0m in \u001b[0;36m_call_flat\u001b[1;34m(self, args, captured_inputs, cancellation_manager)\u001b[0m\n\u001b[0;32m   1961\u001b[0m         and executing_eagerly):\n\u001b[0;32m   1962\u001b[0m       \u001b[1;31m# No tape is watching; skip to running the function.\u001b[0m\u001b[1;33m\u001b[0m\u001b[1;33m\u001b[0m\u001b[1;33m\u001b[0m\u001b[0m\n\u001b[1;32m-> 1963\u001b[1;33m       return self._build_call_outputs(self._inference_function.call(\n\u001b[0m\u001b[0;32m   1964\u001b[0m           ctx, args, cancellation_manager=cancellation_manager))\n\u001b[0;32m   1965\u001b[0m     forward_backward = self._select_forward_and_backward_functions(\n",
      "\u001b[1;32mc:\\users\\smr_prufrock\\appdata\\local\\programs\\python\\python39\\lib\\site-packages\\tensorflow\\python\\eager\\function.py\u001b[0m in \u001b[0;36mcall\u001b[1;34m(self, ctx, args, cancellation_manager)\u001b[0m\n\u001b[0;32m    589\u001b[0m       \u001b[1;32mwith\u001b[0m \u001b[0m_InterpolateFunctionError\u001b[0m\u001b[1;33m(\u001b[0m\u001b[0mself\u001b[0m\u001b[1;33m)\u001b[0m\u001b[1;33m:\u001b[0m\u001b[1;33m\u001b[0m\u001b[1;33m\u001b[0m\u001b[0m\n\u001b[0;32m    590\u001b[0m         \u001b[1;32mif\u001b[0m \u001b[0mcancellation_manager\u001b[0m \u001b[1;32mis\u001b[0m \u001b[1;32mNone\u001b[0m\u001b[1;33m:\u001b[0m\u001b[1;33m\u001b[0m\u001b[1;33m\u001b[0m\u001b[0m\n\u001b[1;32m--> 591\u001b[1;33m           outputs = execute.execute(\n\u001b[0m\u001b[0;32m    592\u001b[0m               \u001b[0mstr\u001b[0m\u001b[1;33m(\u001b[0m\u001b[0mself\u001b[0m\u001b[1;33m.\u001b[0m\u001b[0msignature\u001b[0m\u001b[1;33m.\u001b[0m\u001b[0mname\u001b[0m\u001b[1;33m)\u001b[0m\u001b[1;33m,\u001b[0m\u001b[1;33m\u001b[0m\u001b[1;33m\u001b[0m\u001b[0m\n\u001b[0;32m    593\u001b[0m               \u001b[0mnum_outputs\u001b[0m\u001b[1;33m=\u001b[0m\u001b[0mself\u001b[0m\u001b[1;33m.\u001b[0m\u001b[0m_num_outputs\u001b[0m\u001b[1;33m,\u001b[0m\u001b[1;33m\u001b[0m\u001b[1;33m\u001b[0m\u001b[0m\n",
      "\u001b[1;32mc:\\users\\smr_prufrock\\appdata\\local\\programs\\python\\python39\\lib\\site-packages\\tensorflow\\python\\eager\\execute.py\u001b[0m in \u001b[0;36mquick_execute\u001b[1;34m(op_name, num_outputs, inputs, attrs, ctx, name)\u001b[0m\n\u001b[0;32m     57\u001b[0m   \u001b[1;32mtry\u001b[0m\u001b[1;33m:\u001b[0m\u001b[1;33m\u001b[0m\u001b[1;33m\u001b[0m\u001b[0m\n\u001b[0;32m     58\u001b[0m     \u001b[0mctx\u001b[0m\u001b[1;33m.\u001b[0m\u001b[0mensure_initialized\u001b[0m\u001b[1;33m(\u001b[0m\u001b[1;33m)\u001b[0m\u001b[1;33m\u001b[0m\u001b[1;33m\u001b[0m\u001b[0m\n\u001b[1;32m---> 59\u001b[1;33m     tensors = pywrap_tfe.TFE_Py_Execute(ctx._handle, device_name, op_name,\n\u001b[0m\u001b[0;32m     60\u001b[0m                                         inputs, attrs, num_outputs)\n\u001b[0;32m     61\u001b[0m   \u001b[1;32mexcept\u001b[0m \u001b[0mcore\u001b[0m\u001b[1;33m.\u001b[0m\u001b[0m_NotOkStatusException\u001b[0m \u001b[1;32mas\u001b[0m \u001b[0me\u001b[0m\u001b[1;33m:\u001b[0m\u001b[1;33m\u001b[0m\u001b[1;33m\u001b[0m\u001b[0m\n",
      "\u001b[1;31mKeyboardInterrupt\u001b[0m: "
     ]
    }
   ],
   "source": [
    "predict_and_save('H:\\hadars_folder\\predictions2')"
   ]
  },
  {
   "cell_type": "code",
   "execution_count": null,
   "metadata": {},
   "outputs": [],
   "source": [
    "show_me_random_unsaved_predictions()"
   ]
  }
 ],
 "metadata": {
  "kernelspec": {
   "display_name": "Python 3",
   "language": "python",
   "name": "python3"
  },
  "language_info": {
   "codemirror_mode": {
    "name": "ipython",
    "version": 3
   },
   "file_extension": ".py",
   "mimetype": "text/x-python",
   "name": "python",
   "nbconvert_exporter": "python",
   "pygments_lexer": "ipython3",
   "version": "3.9.4"
  }
 },
 "nbformat": 4,
 "nbformat_minor": 4
}
