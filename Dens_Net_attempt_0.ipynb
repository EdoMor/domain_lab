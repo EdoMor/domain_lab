{
 "cells": [
  {
   "cell_type": "code",
   "execution_count": 1,
   "metadata": {},
   "outputs": [],
   "source": [
    "#imports:\n",
    "# !pip install\n",
    "import numpy as np\n",
    "import cv2\n",
    "import os\n",
    "import matplotlib.pyplot as plt\n",
    "import tensorflow as tf\n",
    "from tensorflow import keras\n",
    "from datagenerator import *\n",
    "\n",
    "physical_devices = tf.config.list_physical_devices('GPU') \n",
    "for device in physical_devices:\n",
    "    tf.config.experimental.set_memory_growth(device, True)"
   ]
  },
  {
   "cell_type": "code",
   "execution_count": 2,
   "metadata": {
    "pycharm": {
     "name": "#%%\n"
    }
   },
   "outputs": [],
   "source": [
    "# constants:\n",
    "SIZE = 160\n",
    "RESIZED_WIDTH = SIZE  # temp\n",
    "RESIZED_HEIGHT = SIZE  # temp\n",
    "RESIZED_NUM_PIXELS = RESIZED_WIDTH * RESIZED_HEIGHT\n",
    "SHAPE = RESIZED_NUM_PIXELS + 3\n",
    "TRAIN_PATH = r'R:\\domain_lab\\runs_processed\\train'  # temp\n",
    "VALID_PATH = r'R:\\domain_lab\\runs_processed\\validation'  # temp\n",
    "TEST_PATH = r'R:\\domain_lab\\runs_processed\\test'  # temp\n",
    "BACH_SIZE = 40 # temp\n",
    "TRAIN_DATASET_SIZE = dataset_size(TRAIN_PATH)\n",
    "VALID_DATASET_SIZE = dataset_size(VALID_PATH)\n",
    "TEST_DATA_SIZE = dataset_size(TEST_PATH)\n",
    "STEPS_PER_EPOCH = TRAIN_DATASET_SIZE // BACH_SIZE\n",
    "EPOCHS = 10  # temp\n",
    "VALIDATION_STEPS = VALID_DATASET_SIZE // BACH_SIZE\n",
    "TEST_STEPS = TEST_DATA_SIZE // BACH_SIZE"
   ]
  },
  {
   "cell_type": "code",
   "execution_count": 3,
   "metadata": {
    "pycharm": {
     "name": "#%%\n"
    }
   },
   "outputs": [],
   "source": [
    "# activating data gen:\n",
    "train_generator = data_generator(TRAIN_PATH, BACH_SIZE,\n",
    "                                 True, RESIZED_WIDTH, RESIZED_HEIGHT)\n",
    "validation_generator = data_generator(VALID_PATH, BACH_SIZE,\n",
    "                                      True, RESIZED_WIDTH, RESIZED_HEIGHT)\n",
    "test_generator = data_generator(TEST_PATH, BACH_SIZE,\n",
    "                                True, RESIZED_WIDTH, RESIZED_HEIGHT)"
   ]
  },
  {
   "cell_type": "code",
   "execution_count": 4,
   "metadata": {
    "pycharm": {
     "name": "#%%\n"
    }
   },
   "outputs": [],
   "source": [
    "# model:\n",
    "model = tf.keras.Sequential()\n",
    "model.add(tf.keras.Input(shape=(SHAPE,)))\n",
    "model.add(tf.keras.layers.Dense(3*SHAPE//4))\n",
    "model.add(tf.keras.layers.Dense(SHAPE//2))\n",
    "model.add(tf.keras.layers.Dense(SHAPE//4))\n",
    "model.add(tf.keras.layers.Dense(SHAPE//2))\n",
    "model.add(tf.keras.layers.Dense(3*SHAPE//4))\n",
    "model.add(tf.keras.layers.Dense(RESIZED_NUM_PIXELS, activation=\"sigmoid\"))"
   ]
  },
  {
   "cell_type": "code",
   "execution_count": 77,
   "metadata": {
    "pycharm": {
     "name": "#%%\n"
    }
   },
   "outputs": [],
   "source": [
    "# Compile the Model:\n",
    "model.compile(loss=keras.losses.binary_crossentropy,\n",
    "              optimizer=keras.optimizers.Adam())"
   ]
  },
  {
   "cell_type": "code",
   "execution_count": null,
   "metadata": {
    "pycharm": {
     "name": "#%%\n"
    }
   },
   "outputs": [
    {
     "name": "stdout",
     "output_type": "stream",
     "text": [
      "Epoch 1/7\n",
      "12496/12496 [==============================] - 30054s 2s/step - loss: 1387.8323 - val_loss: 173.0222\n",
      "Epoch 2/7\n",
      "12496/12496 [==============================] - 30007s 2s/step - loss: 907.7722 - val_loss: 4.6678\n",
      "Epoch 3/7\n",
      " 1039/12496 [=>............................] - ETA: 7:33:21 - loss: 3.3562"
     ]
    },
    {
     "data": {
      "text/plain": [
       "<keras.callbacks.History at 0x26d8aac5c40>"
      ]
     },
     "execution_count": 78,
     "metadata": {},
     "output_type": "execute_result"
    }
   ],
   "source": [
    "# Training the Model:\n",
    "model_history = model.fit(x=train_generator,\n",
    "          steps_per_epoch=STEPS_PER_EPOCH,\n",
    "          epochs=EPOCHS,\n",
    "          validation_data=validation_generator,\n",
    "          validation_steps=VALIDATION_STEPS)\n"
   ]
  },
  {
   "cell_type": "code",
   "execution_count": null,
   "metadata": {
    "pycharm": {
     "name": "#%%\n"
    }
   },
   "outputs": [],
   "source": [
    "# Evaluating the Model:\n",
    "test_loss = model.evaluate(test_generator, steps=TEST_STEPS)\n",
    "print('Test loss:', test_loss)\n"
   ]
  },
  {
   "cell_type": "code",
   "execution_count": null,
   "metadata": {
    "pycharm": {
     "name": "#%%\n"
    }
   },
   "outputs": [],
   "source": [
    "######## functions for visualizing predictions ########\n",
    "\n",
    "def visualize_prediction(pred_input, original_output, prediction):\n",
    "    fig, axes = plt.subplots(1, 3, figsize=(9, 3))\n",
    "\n",
    "    # Plot the input frame.\n",
    "    ax = axes[0]\n",
    "    ax.imshow(np.squeeze(pred_input), cmap=\"gray\")\n",
    "    ax.set_title(f\"input\")\n",
    "    ax.axis(\"off\")\n",
    "\n",
    "    # Plot the original new frame.\n",
    "    ax = axes[1]\n",
    "    ax.imshow(np.squeeze(original_output), cmap=\"gray\")\n",
    "    ax.set_title(f\"original output\")\n",
    "    ax.axis(\"off\")\n",
    "\n",
    "    # Plot the new frame.\n",
    "    ax = axes[2]\n",
    "    ax.imshow(np.squeeze(prediction), cmap=\"gray\")\n",
    "    ax.set_title(f\"predicted output\")\n",
    "    ax.axis(\"off\")\n",
    "\n",
    "    # Display the figure.\n",
    "    plt.show()\n",
    "\n",
    "\n",
    "def predict_and_save(path_for_saving: str, num_pf_predictions: int = None):\n",
    "    if num_pf_predictions is None:\n",
    "        num_pf_predictions = TEST_DATA_SIZE\n",
    "    next_test = next_data(TEST_PATH, RESIZED_WIDTH, RESIZED_HEIGHT)\n",
    "    for _ in range(num_pf_predictions):\n",
    "        pred_input, original_output = next(next_test)\n",
    "        prediction_output = model.predict(np.array([pred_input]))\n",
    "        prediction = img_from_output(prediction_output[0], RESIZED_WIDTH, RESIZED_HEIGHT)\n",
    "        my_input = img_from_input(pred_input,RESIZED_WIDTH,RESIZED_HEIGHT)\n",
    "        original_output = img_from_output(original_output,RESIZED_WIDTH,RESIZED_HEIGHT)\n",
    "        #saving:\n",
    "        join = os.path.join\n",
    "        volts = pred_input[-3:]\n",
    "        name = f'{volts[0]}_{volts[1]}_{volts[2]}'\n",
    "        os.mkdir(join(path_for_saving, name))\n",
    "        for img_name, img in zip(['prediction.png', 'input.png', 'original_output.png'],\n",
    "                                 [prediction, my_input, original_output]):\n",
    "            cv2.imwrite(join(path_for_saving, name, img_name), img)\n",
    "\n",
    "\n",
    "def show_me_random_unsaved_predictions():\n",
    "    next_test = next_data(TEST_PATH, RESIZED_WIDTH, RESIZED_HEIGHT)\n",
    "    while True:\n",
    "        pred_input, original_output = next(next_test)\n",
    "        prediction_output = model.predict(np.array([pred_input]))\n",
    "        prediction = img_from_output(prediction_output[0], RESIZED_WIDTH, RESIZED_HEIGHT)\n",
    "        my_input = img_from_input(pred_input, RESIZED_WIDTH, RESIZED_HEIGHT)\n",
    "        original_output = img_from_output(original_output, RESIZED_WIDTH, RESIZED_HEIGHT)\n",
    "        visualize_prediction(my_input, original_output, prediction)\n",
    "        que = input('press_enter_for_anther_prediction, type q to break')\n",
    "        if que == 'q':\n",
    "            print('breaking...')\n",
    "            break\n",
    "\n",
    "\n",
    "def show_me_random_saved_predictions(saved_predictions_path: str):\n",
    "    predictions_list = os.listdir(saved_predictions_path)\n",
    "    random.shuffle(predictions_list)\n",
    "    join = os.path.join\n",
    "    for pred in predictions_list:\n",
    "        my_input = cv2.imread(join(saved_predictions_path, pred, 'input.png'), cv2.IMREAD_GRAYSCALE)\n",
    "        original_output = cv2.imread(join(saved_predictions_path, pred, 'original_output.png'), cv2.IMREAD_GRAYSCALE)\n",
    "        prediction = cv2.imread(join(saved_predictions_path, pred, 'prediction.png'), cv2.IMREAD_GRAYSCALE)\n",
    "        visualize_prediction(my_input, original_output, prediction)\n",
    "        que = input('press_enter_for_anther_prediction, type q to break')\n",
    "        if que == 'q':\n",
    "            print('breaking...')\n",
    "            break\n",
    "    print('There are no more predictions')\n",
    "\n",
    "\n"
   ]
  },
  {
   "cell_type": "code",
   "execution_count": null,
   "metadata": {
    "pycharm": {
     "name": "#%%\n"
    }
   },
   "outputs": [],
   "source": [
    "predict_and_save('R:\\domain_lab\\saved_predictions')"
   ]
  },
  {
   "cell_type": "code",
   "execution_count": null,
   "metadata": {},
   "outputs": [],
   "source": [
    "show_me_random_unsaved_predictions()"
   ]
  }
 ],
 "metadata": {
  "kernelspec": {
   "display_name": "Python 3",
   "language": "python",
   "name": "python3"
  },
  "language_info": {
   "codemirror_mode": {
    "name": "ipython",
    "version": 3
   },
   "file_extension": ".py",
   "mimetype": "text/x-python",
   "name": "python",
   "nbconvert_exporter": "python",
   "pygments_lexer": "ipython3",
   "version": "3.9.5"
  }
 },
 "nbformat": 4,
 "nbformat_minor": 4
}
