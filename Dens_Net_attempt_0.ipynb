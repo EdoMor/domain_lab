{
 "cells": [
  {
   "cell_type": "code",
   "execution_count": 19,
   "metadata": {
    "scrolled": false
   },
   "outputs": [],
   "source": [
    "#imports:\n",
    "# !pip install\n",
    "import numpy as np\n",
    "import cv2\n",
    "import os\n",
    "import matplotlib.pyplot as plt\n",
    "import tensorflow as tf\n",
    "from tensorflow import keras\n",
    "from keras.preprocessing.image import ImageDataGenerator\n",
    "from datagenerator import dataset_size\n",
    "from datagenerator import data_generator\n",
    "from datagenerator import *"
   ]
  },
  {
   "cell_type": "code",
   "execution_count": 20,
   "metadata": {
    "pycharm": {
     "name": "#%%\n"
    }
   },
   "outputs": [],
   "source": [
    "# constants:\n",
    "RESIZED_WIDTH = 100  # temp\n",
    "RESIZED_HEIGHT = 100  # temp\n",
    "RESIZED_NUM_PIXELS = RESIZED_WIDTH * RESIZED_HEIGHT\n",
    "SHAPE = RESIZED_NUM_PIXELS + 3\n",
    "TRAIN_PATH = r'C:\\Users\\hadar\\Desktop\\Advanced_Lab\\run_1_data\\train_valid_test\\train'  # temp\n",
    "VALID_PATH = r'C:\\Users\\hadar\\Desktop\\Advanced_Lab\\run_1_data\\train_valid_test\\valid'  # temp\n",
    "TEST_PATH = r'C:\\Users\\hadar\\Desktop\\Advanced_Lab\\run_1_data\\train_valid_test\\test'  # temp\n",
    "BACH_SIZE = 8  # temp\n",
    "TRAIN_DATASET_SIZE = dataset_size(TRAIN_PATH)\n",
    "VALID_DATASET_SIZE = dataset_size(VALID_PATH)\n",
    "TEST_DATA_SIZE = dataset_size(TEST_PATH)\n",
    "STEPS_PER_EPOCH = TRAIN_DATASET_SIZE // BACH_SIZE\n",
    "EPOCHS = 8  # temp\n",
    "VALIDATION_STEPS = VALID_DATASET_SIZE // BACH_SIZE\n",
    "TEST_STEPS = TEST_DATA_SIZE // BACH_SIZE"
   ]
  },
  {
   "cell_type": "code",
   "execution_count": 21,
   "metadata": {
    "pycharm": {
     "name": "#%%\n"
    }
   },
   "outputs": [],
   "source": [
    "# activating data gen:\n",
    "train_generator = data_generator(TRAIN_PATH, BACH_SIZE,\n",
    "                                 True, RESIZED_WIDTH, RESIZED_HEIGHT)\n",
    "validation_generator = data_generator(VALID_PATH, BACH_SIZE,\n",
    "                                      True, RESIZED_WIDTH, RESIZED_HEIGHT)\n",
    "test_generator = data_generator(TEST_PATH, BACH_SIZE,\n",
    "                                True, RESIZED_WIDTH, RESIZED_HEIGHT)"
   ]
  },
  {
   "cell_type": "code",
   "execution_count": 22,
   "metadata": {
    "pycharm": {
     "name": "#%%\n"
    }
   },
   "outputs": [],
   "source": [
    "# model:\n",
    "model = tf.keras.Sequential()\n",
    "model.add(tf.keras.Input(shape=(SHAPE,)))\n",
    "model.add(tf.keras.layers.Dense(RESIZED_NUM_PIXELS, activation=\"sigmoid\"))"
   ]
  },
  {
   "cell_type": "code",
   "execution_count": 23,
   "metadata": {
    "pycharm": {
     "name": "#%%\n"
    }
   },
   "outputs": [],
   "source": [
    "# Compile the Model:\n",
    "model.compile(loss=keras.losses.binary_crossentropy,\n",
    "              optimizer=keras.optimizers.Adam())"
   ]
  },
  {
   "cell_type": "code",
   "execution_count": 25,
   "metadata": {
    "pycharm": {
     "name": "#%%\n"
    }
   },
   "outputs": [
    {
     "name": "stdout",
     "output_type": "stream",
     "text": [
      "Epoch 1/8\n",
      "99/99 [==============================] - 47s 476ms/step - loss: 0.9001 - val_loss: 0.9842\n",
      "Epoch 2/8\n",
      "99/99 [==============================] - 45s 451ms/step - loss: 0.6883 - val_loss: 1.0163\n",
      "Epoch 3/8\n",
      "99/99 [==============================] - 45s 457ms/step - loss: 0.6508 - val_loss: 1.0596\n",
      "Epoch 4/8\n",
      "99/99 [==============================] - 45s 457ms/step - loss: 0.6668 - val_loss: 1.2853\n",
      "Epoch 5/8\n",
      "99/99 [==============================] - 45s 455ms/step - loss: 0.6427 - val_loss: 1.5557\n",
      "Epoch 6/8\n",
      "99/99 [==============================] - 45s 459ms/step - loss: 0.6288 - val_loss: 1.3327\n",
      "Epoch 7/8\n",
      "99/99 [==============================] - 46s 462ms/step - loss: 0.5895 - val_loss: 1.0599\n",
      "Epoch 8/8\n",
      "99/99 [==============================] - 46s 470ms/step - loss: 0.5599 - val_loss: 1.1019\n"
     ]
    },
    {
     "data": {
      "text/plain": [
       "<keras.callbacks.History at 0x2589a00d310>"
      ]
     },
     "execution_count": 25,
     "metadata": {},
     "output_type": "execute_result"
    }
   ],
   "source": [
    "# Training the Model:\n",
    "model.fit(x=train_generator,\n",
    "          steps_per_epoch=STEPS_PER_EPOCH,\n",
    "          epochs=EPOCHS,\n",
    "          validation_data=validation_generator,\n",
    "          validation_steps=VALIDATION_STEPS)\n"
   ]
  },
  {
   "cell_type": "code",
   "execution_count": 28,
   "metadata": {
    "pycharm": {
     "name": "#%%\n"
    }
   },
   "outputs": [
    {
     "name": "stdout",
     "output_type": "stream",
     "text": [
      "12/12 [==============================] - 1s 124ms/step - loss: 1.2826\n",
      "Test accuracy: 1.2826240062713623\n"
     ]
    }
   ],
   "source": [
    "# Evaluating the Model:\n",
    "test loss = model.evaluate(test_generator, steps=TEST_STEPS)\n",
    "print('Test accuracy:', test loss)"
   ]
  },
  {
   "cell_type": "code",
   "execution_count": 32,
   "metadata": {
    "pycharm": {
     "name": "#%%\n"
    }
   },
   "outputs": [],
   "source": [
    "# Making Predictions:\n",
    "pred_input_name = r'1628592557.2112725_3.79526.png'\n",
    "input_volt = get_volt_from_img_name(pred_input_name)\n",
    "pred_output_name = r'1628592558.9303007_2.85834.png'\n",
    "output_volt = get_volt_from_img_name(pred_output_name)\n",
    "pred_input = img_to_input(cv2.imread(os.path.join(TEST_PATH,'run1',pred_input_name), cv2.IMREAD_GRAYSCALE),\n",
    "                          input_volt, output_volt, RESIZED_WIDTH, RESIZED_HEIGHT)\n",
    "pred_output = reshape_for_net(cv2.imread(os.path.join(TEST_PATH,'run1',pred_output_name), cv2.IMREAD_GRAYSCALE),\n",
    "                              RESIZED_WIDTH, RESIZED_HEIGHT)\n",
    "pred_input = np.array([pred_input])"
   ]
  },
  {
   "cell_type": "code",
   "execution_count": 33,
   "metadata": {
    "pycharm": {
     "name": "#%%\n"
    }
   },
   "outputs": [],
   "source": [
    "prediction = model.predict(pred_input)"
   ]
  },
  {
   "cell_type": "code",
   "execution_count": 35,
   "metadata": {
    "pycharm": {
     "name": "#%%\n"
    }
   },
   "outputs": [
    {
     "data": {
      "image/png": "[encoded data removed]",
      "text/plain": [
       "<Figure size 1440x288 with 3 Axes>"
      ]
     },
     "metadata": {
      "needs_background": "light"
     },
     "output_type": "display_data"
    }
   ],
   "source": [
    "# visualize the prediction:\n",
    "\n",
    "def visualize_prediction(pred_input, original_output, prediction):\n",
    "    \n",
    "    fig, axes = plt.subplots(3, 1, figsize=(20, 4))\n",
    "\n",
    "    # Plot the input frame.\n",
    "    ax = axes[0]\n",
    "    ax.imshow(np.squeeze(img_from_input(pred_input,RESIZED_WIDTH,RESIZED_HEIGHT)), cmap=\"gray\")\n",
    "    ax.set_title(f\"input\")\n",
    "    ax.axis(\"off\")\n",
    "\n",
    "    # Plot the original new frame.\n",
    "    ax = axes[1]\n",
    "    ax.imshow(np.squeeze(img_from_output(original_output,RESIZED_WIDTH,RESIZED_HEIGHT)), cmap=\"gray\")\n",
    "    ax.set_title(f\"original output\")\n",
    "    ax.axis(\"off\")\n",
    "\n",
    "    # Plot the new frame.\n",
    "    ax = axes[2]\n",
    "    ax.imshow(np.squeeze(img_from_output(prediction[0],RESIZED_WIDTH,RESIZED_HEIGHT)), cmap=\"gray\")\n",
    "    ax.set_title(f\"predicted output\")\n",
    "    ax.axis(\"off\")\n",
    "\n",
    "    # Display the figure.\n",
    "    plt.show()\n",
    "    \n",
    "visualize_prediction(pred_input, pred_output, prediction)\n",
    "\n"
   ]
  }
 ],
 "metadata": {
  "kernelspec": {
   "display_name": "Python 3 (ipykernel)",
   "language": "python",
   "name": "python3"
  },
  "language_info": {
   "codemirror_mode": {
    "name": "ipython",
    "version": 3
   },
   "file_extension": ".py",
   "mimetype": "text/x-python",
   "name": "python",
   "nbconvert_exporter": "python",
   "pygments_lexer": "ipython3",
   "version": "3.9.5"
  }
 },
 "nbformat": 4,
 "nbformat_minor": 1
}